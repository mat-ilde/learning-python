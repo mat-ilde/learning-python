{
 "cells": [
  {
   "cell_type": "code",
   "execution_count": 1,
   "metadata": {},
   "outputs": [],
   "source": [
    "word = \"azabache\"\n"
   ]
  },
  {
   "cell_type": "code",
   "execution_count": 2,
   "metadata": {},
   "outputs": [
    {
     "data": {
      "text/plain": [
       "'a'"
      ]
     },
     "execution_count": 2,
     "metadata": {},
     "output_type": "execute_result"
    }
   ],
   "source": [
    "# la primera letra siempre empieza a contar por 0\n",
    "word[0]"
   ]
  },
  {
   "cell_type": "code",
   "execution_count": 3,
   "metadata": {},
   "outputs": [
    {
     "data": {
      "text/plain": [
       "'z'"
      ]
     },
     "execution_count": 3,
     "metadata": {},
     "output_type": "execute_result"
    }
   ],
   "source": [
    "word[1]"
   ]
  },
  {
   "cell_type": "code",
   "execution_count": 6,
   "metadata": {},
   "outputs": [
    {
     "data": {
      "text/plain": [
       "8"
      ]
     },
     "execution_count": 6,
     "metadata": {},
     "output_type": "execute_result"
    }
   ],
   "source": [
    "# esto me dice la cantidad de letras q hay en la palabra\n",
    "len(word)"
   ]
  },
  {
   "cell_type": "code",
   "execution_count": 7,
   "metadata": {},
   "outputs": [
    {
     "data": {
      "text/plain": [
       "8"
      ]
     },
     "execution_count": 7,
     "metadata": {},
     "output_type": "execute_result"
    }
   ],
   "source": [
    "len(\"azabache\")"
   ]
  },
  {
   "cell_type": "code",
   "execution_count": 8,
   "metadata": {},
   "outputs": [
    {
     "name": "stdout",
     "output_type": "stream",
     "text": [
      "a\n",
      "z\n",
      "a\n",
      "b\n",
      "a\n",
      "c\n",
      "h\n",
      "e\n"
     ]
    }
   ],
   "source": [
    "#como la primera posicion es cero de izquierda a derecha,se inicializa i=0\n",
    "i = 0\n",
    "# esto es estricto \"<\" porque la ultima posicion es 3 ya que empezamos en 0 y \n",
    "# tendria uno de mas\n",
    "while i <8:\n",
    "    # esto imprime la letra en el valor que vaya adquiriendo i\n",
    "    print(word[i])\n",
    "    # esto me va sumando uno a \"i\" en cada iteracion \n",
    "    i = i+1"
   ]
  },
  {
   "cell_type": "code",
   "execution_count": 10,
   "metadata": {},
   "outputs": [],
   "source": [
    "# esta variable es igual a la longitud de word=4\n",
    "length_word = len(word)"
   ]
  },
  {
   "cell_type": "code",
   "execution_count": 11,
   "metadata": {},
   "outputs": [
    {
     "data": {
      "text/plain": [
       "8"
      ]
     },
     "execution_count": 11,
     "metadata": {},
     "output_type": "execute_result"
    }
   ],
   "source": [
    "length_word"
   ]
  },
  {
   "cell_type": "markdown",
   "metadata": {},
   "source": [
    "hola\n",
    "\n",
    "0123"
   ]
  },
  {
   "cell_type": "code",
   "execution_count": 12,
   "metadata": {},
   "outputs": [
    {
     "name": "stdout",
     "output_type": "stream",
     "text": [
      "a\n",
      "z\n",
      "a\n",
      "b\n",
      "a\n",
      "c\n",
      "h\n",
      "e\n"
     ]
    }
   ],
   "source": [
    "i = 0\n",
    "# en este caso en lugar de usar la cantidad de directa del numero,se usa una variable\n",
    "while i < len(word):\n",
    "    print(word[i])\n",
    "    i = i+1"
   ]
  },
  {
   "cell_type": "code",
   "execution_count": 13,
   "metadata": {},
   "outputs": [
    {
     "name": "stdout",
     "output_type": "stream",
     "text": [
      "a\n",
      "z\n",
      "a\n",
      "b\n",
      "a\n",
      "c\n",
      "h\n",
      "e\n"
     ]
    },
    {
     "ename": "IndexError",
     "evalue": "string index out of range",
     "output_type": "error",
     "traceback": [
      "\u001b[0;31m---------------------------------------------------------------------------\u001b[0m",
      "\u001b[0;31mIndexError\u001b[0m                                Traceback (most recent call last)",
      "\u001b[0;32m<ipython-input-13-6a450188d025>\u001b[0m in \u001b[0;36m<module>\u001b[0;34m\u001b[0m\n\u001b[1;32m      3\u001b[0m \u001b[0;31m# accede a una posicion que non exist\u001b[0m\u001b[0;34m\u001b[0m\u001b[0;34m\u001b[0m\u001b[0;34m\u001b[0m\u001b[0m\n\u001b[1;32m      4\u001b[0m \u001b[0;32mwhile\u001b[0m \u001b[0mi\u001b[0m \u001b[0;34m<=\u001b[0m \u001b[0mlen\u001b[0m\u001b[0;34m(\u001b[0m\u001b[0mword\u001b[0m\u001b[0;34m)\u001b[0m\u001b[0;34m:\u001b[0m\u001b[0;34m\u001b[0m\u001b[0;34m\u001b[0m\u001b[0m\n\u001b[0;32m----> 5\u001b[0;31m     \u001b[0mprint\u001b[0m\u001b[0;34m(\u001b[0m\u001b[0mword\u001b[0m\u001b[0;34m[\u001b[0m\u001b[0mi\u001b[0m\u001b[0;34m]\u001b[0m\u001b[0;34m)\u001b[0m\u001b[0;34m\u001b[0m\u001b[0;34m\u001b[0m\u001b[0m\n\u001b[0m\u001b[1;32m      6\u001b[0m     \u001b[0mi\u001b[0m \u001b[0;34m=\u001b[0m \u001b[0mi\u001b[0m\u001b[0;34m+\u001b[0m\u001b[0;36m1\u001b[0m\u001b[0;34m\u001b[0m\u001b[0;34m\u001b[0m\u001b[0m\n",
      "\u001b[0;31mIndexError\u001b[0m: string index out of range"
     ]
    }
   ],
   "source": [
    "i = 0\n",
    "# en este caso podemos ver como poniendo \"=\"nos peta cuando llega al limite\n",
    "# accede a una posicion que non exist\n",
    "while i <= len(word):\n",
    "    print(word[i])\n",
    "    i = i+1"
   ]
  },
  {
   "cell_type": "markdown",
   "metadata": {},
   "source": [
    "## darle la vuelta a las letras"
   ]
  },
  {
   "cell_type": "code",
   "execution_count": 15,
   "metadata": {},
   "outputs": [
    {
     "name": "stdout",
     "output_type": "stream",
     "text": [
      "e\n",
      "h\n",
      "c\n",
      "a\n",
      "b\n",
      "a\n",
      "z\n",
      "a\n"
     ]
    }
   ],
   "source": [
    "i = 7\n",
    "while i>=0:\n",
    "    print(word[i])\n",
    "    i = i-1"
   ]
  },
  {
   "cell_type": "code",
   "execution_count": 16,
   "metadata": {},
   "outputs": [
    {
     "name": "stdout",
     "output_type": "stream",
     "text": [
      "e\n",
      "h\n",
      "c\n",
      "a\n",
      "b\n",
      "a\n",
      "z\n",
      "a\n"
     ]
    }
   ],
   "source": [
    "\n",
    "i = len(word) - 1\n",
    "while i>=0:\n",
    "    print(word[i])\n",
    "    i = i-1"
   ]
  },
  {
   "cell_type": "markdown",
   "metadata": {},
   "source": [
    "##  Counting a's (1)"
   ]
  },
  {
   "cell_type": "code",
   "execution_count": 3,
   "metadata": {},
   "outputs": [
    {
     "name": "stdout",
     "output_type": "stream",
     "text": [
      "maria\n",
      "2\n"
     ]
    }
   ],
   "source": [
    "#entrada del usuario\n",
    "frase=input()\n",
    "#dentro de esa frase tengo que buscar la letra \"a\" y para ello lo voy inicializar para\n",
    "#su conteo\n",
    "i=0\n",
    "#tengo que ir letra a letra de la frase para encontrar la letra \"a\" y eso lo hago con \n",
    "#un bucle y un \"len\"\n",
    "conteo=0\n",
    "while i< len(frase):\n",
    "    letra=frase[i]\n",
    "    #condicion para encontrar la \"a\"\n",
    "    if letra==\"a\":\n",
    "        conteo=conteo+1\n",
    "    i = i+1\n",
    "    \n",
    "print(conteo)\n",
    "\n",
    "        \n",
    "    \n"
   ]
  },
  {
   "cell_type": "code",
   "execution_count": 11,
   "metadata": {},
   "outputs": [
    {
     "data": {
      "text/plain": [
       "5"
      ]
     },
     "execution_count": 11,
     "metadata": {},
     "output_type": "execute_result"
    }
   ],
   "source": [
    "# chivato\n",
    "print(\"i: \"+str(i))\n",
    "print(\"letra: \"+letra)i = i+1\n",
    "    "
   ]
  },
  {
   "cell_type": "code",
   "execution_count": 13,
   "metadata": {},
   "outputs": [
    {
     "name": "stdout",
     "output_type": "stream",
     "text": [
      "j: 0\n",
      "i: 0\n",
      "i: 1\n",
      "i: 2\n",
      "i: 3\n",
      "i: 4\n",
      "i: 5\n",
      "i: 6\n",
      "i: 7\n",
      "i: 8\n",
      "i: 9\n",
      "j: 1\n",
      "j: 2\n",
      "j: 3\n",
      "j: 4\n",
      "j: 5\n",
      "j: 6\n",
      "j: 7\n",
      "j: 8\n",
      "j: 9\n"
     ]
    }
   ],
   "source": [
    "#chivato para ver el valor de j y de i\n",
    "i = 0\n",
    "j=0\n",
    "while j< 10:\n",
    "    print(\"j: \"+str(j))\n",
    "    while i < 10:\n",
    "        print(\"i: \"+ str(i))\n",
    "        i= i+1\n",
    "    j=j+1"
   ]
  },
  {
   "cell_type": "markdown",
   "metadata": {},
   "source": [
    "##  Reversed number"
   ]
  },
  {
   "cell_type": "code",
   "execution_count": 60,
   "metadata": {},
   "outputs": [
    {
     "name": "stdout",
     "output_type": "stream",
     "text": [
      "1000\n",
      "0001\n"
     ]
    }
   ],
   "source": [
    "number=input()\n",
    "#creamos la variable i\n",
    "i=len(number)-1\n",
    "#creamos un bucle\n",
    "while i>=0:\n",
    "    if i==0:\n",
    "        print(number[i])\n",
    "    else:\n",
    "        print( number[i], end=\"\")\n",
    "    i=i-1\n"
   ]
  },
  {
   "cell_type": "markdown",
   "metadata": {},
   "source": [
    "## reversed number printing only in the end"
   ]
  },
  {
   "cell_type": "code",
   "execution_count": 71,
   "metadata": {},
   "outputs": [
    {
     "name": "stdout",
     "output_type": "stream",
     "text": [
      "234\n",
      "432\n"
     ]
    }
   ],
   "source": [
    "number=input()\n",
    "#creamos la variable i\n",
    "i=len(number)-1\n",
    "#crear variable type str se inicializa vacio para q vaya agregando\n",
    "number_reverse=\"\"\n",
    "#creamos un bucle\n",
    "while i>=0:\n",
    "    number_reverse=number_reverse+number[i]\n",
    "    i=i-1\n",
    "#el print lo pongo justo debajo del while asi solo imprime el resultado final\n",
    "print( int(number_reverse))\n"
   ]
  },
  {
   "cell_type": "markdown",
   "metadata": {},
   "source": [
    "##  Multiplication table"
   ]
  },
  {
   "cell_type": "code",
   "execution_count": 58,
   "metadata": {},
   "outputs": [
    {
     "name": "stdout",
     "output_type": "stream",
     "text": [
      "2\n",
      "2*1 = 2\n",
      "2*2 = 4\n",
      "2*3 = 6\n",
      "2*4 = 8\n",
      "2*5 = 10\n",
      "2*6 = 12\n",
      "2*7 = 14\n",
      "2*8 = 16\n",
      "2*9 = 18\n",
      "2*10 = 20\n"
     ]
    }
   ],
   "source": [
    "x=input()\n",
    "x=int(x)\n",
    "i=1\n",
    "while i<=10:\n",
    "    print(str(x)+\"*\"+str(i)+\" = \"+str(i*x))\n",
    "    i=i+1 "
   ]
  },
  {
   "cell_type": "code",
   "execution_count": null,
   "metadata": {},
   "outputs": [],
   "source": [
    "\n",
    "\n",
    "2*1 = 2\n",
    "2*2 = 4\n",
    "2*3 = 6\n",
    "2*4 = 8\n",
    "2*5 = 10\n",
    "2*6 = 12\n",
    "2*7 = 14\n",
    "2*8 = 16\n",
    "2*9 = 18\n",
    "2*10 = 20"
   ]
  }
 ],
 "metadata": {
  "kernelspec": {
   "display_name": "Python 3",
   "language": "python",
   "name": "python3"
  },
  "language_info": {
   "codemirror_mode": {
    "name": "ipython",
    "version": 3
   },
   "file_extension": ".py",
   "mimetype": "text/x-python",
   "name": "python",
   "nbconvert_exporter": "python",
   "pygments_lexer": "ipython3",
   "version": "3.6.8"
  }
 },
 "nbformat": 4,
 "nbformat_minor": 2
}
