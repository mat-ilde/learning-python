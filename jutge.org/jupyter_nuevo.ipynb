{
 "cells": [
  {
   "cell_type": "markdown",
   "metadata": {},
   "source": [
    "# Introduction"
   ]
  },
  {
   "cell_type": "markdown",
   "metadata": {},
   "source": [
    "## Hello world"
   ]
  },
  {
   "cell_type": "code",
   "execution_count": null,
   "metadata": {},
   "outputs": [],
   "source": [
    "print(\"hello world !\")"
   ]
  },
  {
   "cell_type": "markdown",
   "metadata": {},
   "source": [
    "## Three words"
   ]
  },
  {
   "cell_type": "code",
   "execution_count": null,
   "metadata": {},
   "outputs": [],
   "source": [
    "def read_generic_input():\n",
    "    input_variables = input()\n",
    "    return input_variables.split(\" \")\n",
    "\n",
    "a,b,c = read_generic_input()\n",
    "print(c,b,a)"
   ]
  },
  {
   "cell_type": "code",
   "execution_count": null,
   "metadata": {},
   "outputs": [],
   "source": [
    "a,b,c = read_generic_input()"
   ]
  },
  {
   "cell_type": "code",
   "execution_count": null,
   "metadata": {},
   "outputs": [],
   "source": [
    "print(c,b,a)"
   ]
  },
  {
   "cell_type": "markdown",
   "metadata": {},
   "source": [
    "## Sum of two integer numbers"
   ]
  },
  {
   "cell_type": "code",
   "execution_count": null,
   "metadata": {
    "scrolled": true
   },
   "outputs": [],
   "source": [
    "def read_generic_input(n_values):\n",
    "    read_values = []\n",
    "    while len(read_values) < n_values:\n",
    "        input_values = input()\n",
    "        read_values+=input_values.split(\" \")\n",
    "    return read_values\n",
    "\n",
    "a,b, = read_generic_input(2)"
   ]
  },
  {
   "cell_type": "code",
   "execution_count": null,
   "metadata": {},
   "outputs": [],
   "source": [
    "int(a)\n"
   ]
  },
  {
   "cell_type": "code",
   "execution_count": null,
   "metadata": {},
   "outputs": [],
   "source": [
    "int(b)"
   ]
  },
  {
   "cell_type": "code",
   "execution_count": null,
   "metadata": {},
   "outputs": [],
   "source": [
    "a=int(a)"
   ]
  },
  {
   "cell_type": "code",
   "execution_count": null,
   "metadata": {},
   "outputs": [],
   "source": [
    "b=int(b)"
   ]
  },
  {
   "cell_type": "code",
   "execution_count": null,
   "metadata": {},
   "outputs": [],
   "source": [
    "print(a+b)\n"
   ]
  },
  {
   "cell_type": "markdown",
   "metadata": {},
   "source": [
    "## Sum of three integer numbers"
   ]
  },
  {
   "cell_type": "code",
   "execution_count": null,
   "metadata": {},
   "outputs": [],
   "source": [
    "\n",
    "def read_generic_input(n_values):\n",
    "    read_values = []\n",
    "    while len(read_values) < n_values:\n",
    "        input_values = input()\n",
    "        input_values = ' '.join(input_values.split())\n",
    "        if input_values!=\"\\n\"and input_values!='':\n",
    "            read_values+=input_values.split(\" \")\n",
    "    return read_values\n",
    "a,b,c = read_generic_input(3)"
   ]
  },
  {
   "cell_type": "code",
   "execution_count": null,
   "metadata": {},
   "outputs": [],
   "source": [
    "int(a)"
   ]
  },
  {
   "cell_type": "code",
   "execution_count": null,
   "metadata": {},
   "outputs": [],
   "source": [
    "int (b)"
   ]
  },
  {
   "cell_type": "code",
   "execution_count": null,
   "metadata": {},
   "outputs": [],
   "source": [
    "int(c)"
   ]
  },
  {
   "cell_type": "code",
   "execution_count": null,
   "metadata": {},
   "outputs": [],
   "source": [
    "a=int(a)"
   ]
  },
  {
   "cell_type": "code",
   "execution_count": null,
   "metadata": {},
   "outputs": [],
   "source": [
    "b=int(b)"
   ]
  },
  {
   "cell_type": "code",
   "execution_count": null,
   "metadata": {},
   "outputs": [],
   "source": [
    "c=int(c)"
   ]
  },
  {
   "cell_type": "code",
   "execution_count": null,
   "metadata": {},
   "outputs": [],
   "source": [
    "print(a+b+c)"
   ]
  },
  {
   "cell_type": "markdown",
   "metadata": {},
   "source": [
    "## Maximum of two integer numbers"
   ]
  },
  {
   "cell_type": "code",
   "execution_count": null,
   "metadata": {},
   "outputs": [],
   "source": [
    "\n",
    "def read_generic_input(n_values):\n",
    "    read_values = []\n",
    "    while len(read_values) < n_values:\n",
    "        input_values = input()\n",
    "        input_values = ' '.join(input_values.split())\n",
    "        if input_values!=\"\\n\"and input_values!='':\n",
    "            read_values+=input_values.split(\" \")\n",
    "    return read_values\n",
    "a,b, = read_generic_input(2)"
   ]
  },
  {
   "cell_type": "code",
   "execution_count": null,
   "metadata": {},
   "outputs": [],
   "source": [
    "if a>=b:\n",
    "    print(a)\n",
    "elif b>=a:\n",
    "    print(b)\n",
    "else:\n",
    "    print(\"erroneo\")\n",
    "    "
   ]
  },
  {
   "cell_type": "code",
   "execution_count": null,
   "metadata": {},
   "outputs": [],
   "source": [
    "int(a)"
   ]
  },
  {
   "cell_type": "code",
   "execution_count": null,
   "metadata": {},
   "outputs": [],
   "source": [
    "a=int(a)"
   ]
  },
  {
   "cell_type": "code",
   "execution_count": null,
   "metadata": {},
   "outputs": [],
   "source": [
    "int(b)"
   ]
  },
  {
   "cell_type": "code",
   "execution_count": null,
   "metadata": {},
   "outputs": [],
   "source": [
    "b=int(b)"
   ]
  },
  {
   "cell_type": "markdown",
   "metadata": {},
   "source": [
    "## Maximum of three different integer numbers"
   ]
  },
  {
   "cell_type": "code",
   "execution_count": null,
   "metadata": {},
   "outputs": [],
   "source": [
    "\n",
    "def read_generic_input(n_values):\n",
    "    read_values = []\n",
    "    while len(read_values) < n_values:\n",
    "        input_values = input()\n",
    "        input_values = ' '.join(input_values.split())\n",
    "        if input_values!=\"\\n\"and input_values!='':\n",
    "            read_values+=input_values.split(\" \")\n",
    "    return read_values\n",
    "a,b,c = read_generic_input(3)"
   ]
  },
  {
   "cell_type": "code",
   "execution_count": null,
   "metadata": {},
   "outputs": [],
   "source": [
    "a=int(a)"
   ]
  },
  {
   "cell_type": "code",
   "execution_count": null,
   "metadata": {},
   "outputs": [],
   "source": [
    "b=int(b)"
   ]
  },
  {
   "cell_type": "code",
   "execution_count": null,
   "metadata": {},
   "outputs": [],
   "source": [
    "c=int(c)"
   ]
  },
  {
   "cell_type": "code",
   "execution_count": null,
   "metadata": {},
   "outputs": [],
   "source": [
    "if a>b and a>c:\n",
    "    print(a)\n",
    "elif b>a and b>c:\n",
    "    print(b)\n",
    "else:\n",
    "    print(c)"
   ]
  },
  {
   "cell_type": "code",
   "execution_count": null,
   "metadata": {},
   "outputs": [],
   "source": [
    "type(b)"
   ]
  },
  {
   "cell_type": "markdown",
   "metadata": {},
   "source": [
    "## Maximum of three integer numbers"
   ]
  },
  {
   "cell_type": "code",
   "execution_count": null,
   "metadata": {},
   "outputs": [],
   "source": [
    "\n",
    "def read_generic_input(n_values):\n",
    "    read_values = []\n",
    "    while len(read_values) < n_values:\n",
    "        input_values = input()\n",
    "        input_values = ' '.join(input_values.split())\n",
    "        if input_values!=\"\\n\"and input_values!='':\n",
    "            read_values+=input_values.split(\" \")\n",
    "    return read_values\n",
    "a,b,c = read_generic_input(3)"
   ]
  },
  {
   "cell_type": "code",
   "execution_count": null,
   "metadata": {},
   "outputs": [],
   "source": [
    "a=int(a)\n",
    "b=int(b)\n",
    "c=int(c)"
   ]
  },
  {
   "cell_type": "code",
   "execution_count": null,
   "metadata": {},
   "outputs": [],
   "source": [
    "if a>=b and a>=c:\n",
    "    print(a)\n",
    "elif b>=a and b>=c:\n",
    "    print(b)\n",
    "else:\n",
    "    print(c)"
   ]
  },
  {
   "cell_type": "markdown",
   "metadata": {},
   "source": [
    "## Temperatures"
   ]
  },
  {
   "cell_type": "code",
   "execution_count": null,
   "metadata": {},
   "outputs": [],
   "source": [
    "\n",
    "def read_generic_input(n_values):\n",
    "    read_values = []\n",
    "    while len(read_values) < n_values:\n",
    "        input_values = input()\n",
    "        input_values = ' '.join(input_values.split())\n",
    "        if input_values!=\"\\n\"and input_values!='':\n",
    "            read_values+=input_values.split(\" \")\n",
    "    return read_values\n",
    "a = read_generic_input(1)\n",
    "a =a[0]\n",
    "a=int(a)"
   ]
  },
  {
   "cell_type": "code",
   "execution_count": null,
   "metadata": {},
   "outputs": [],
   "source": [
    "if a>30:\n",
    "    print(\"it's hot\")\n",
    "elif a<10:\n",
    "    print(\"it's cold\")\n",
    "else:\n",
    "    print(\"it's ok\")\n",
    "if a>=100:\n",
    "    print(\" water would boild\")\n",
    "elif a<=0:\n",
    "    print(\"the water would freeze\")"
   ]
  },
  {
   "cell_type": "markdown",
   "metadata": {},
   "source": [
    "## Integer division and remainder of two natural numbers"
   ]
  },
  {
   "cell_type": "code",
   "execution_count": null,
   "metadata": {},
   "outputs": [],
   "source": [
    "\n",
    "def read_generic_input(n_values):\n",
    "    read_values = []\n",
    "    while len(read_values) < n_values:\n",
    "        input_values = input()\n",
    "        input_values = ' '.join(input_values.split())\n",
    "        if input_values!=\"\\n\"and input_values!='':\n",
    "            read_values+=input_values.split(\" \")\n",
    "    return read_values\n",
    "a,b = read_generic_input(2)\n",
    "a=int(a)\n",
    "b=int(b)\n",
    "cociente = int(a) // int(b)\n",
    "rest = int(a) % int(b)\n",
    "print(str(cociente) + \" \" + str(rest))"
   ]
  },
  {
   "cell_type": "markdown",
   "metadata": {},
   "source": [
    "##  Integer division and remainder of an integer number by a natural number"
   ]
  },
  {
   "cell_type": "code",
   "execution_count": null,
   "metadata": {},
   "outputs": [],
   "source": [
    "\n",
    "def read_generic_input(n_values):\n",
    "    read_values = []\n",
    "    while len(read_values) < n_values:\n",
    "        input_values = input()\n",
    "        input_values = ' '.join(input_values.split())\n",
    "        if input_values!=\"\\n\"and input_values!='':\n",
    "            read_values+=input_values.split(\" \")\n",
    "    return read_values\n",
    "a,b = read_generic_input(2)\n",
    "a=int(a)\n",
    "b=int(b)\n",
    "cociente = int(a) // int(b)\n",
    "rest = int(a) % int(b)\n",
    "print(str(cociente) + \" \" + str(rest))"
   ]
  },
  {
   "cell_type": "markdown",
   "metadata": {},
   "source": [
    " ## Uppercase and lowercase letters"
   ]
  },
  {
   "cell_type": "code",
   "execution_count": null,
   "metadata": {},
   "outputs": [],
   "source": [
    "usuario=(input())\n",
    "if usuario.isupper():\n",
    "    \n",
    "    print(usuario.lower())\n",
    "else:\n",
    "    print(usuario.upper())\n",
    "    \n",
    "\n",
    "\n",
    "\n"
   ]
  },
  {
   "cell_type": "markdown",
   "metadata": {},
   "source": [
    "## ejemplo 2 de como hacer uppercase and lowercase sin usar las funciones\n"
   ]
  },
  {
   "cell_type": "code",
   "execution_count": null,
   "metadata": {},
   "outputs": [],
   "source": [
    "\n",
    "usuario=(input())\n",
    "if usuario.isupper():\n",
    "    print(\"uppercase\")\n",
    "else:\n",
    "    print(\"lowercase\")\n",
    "               \n",
    "if  usuario ==\"a\"or usuario==\"e\"or usuario==\"i\"or usuario==\"o\"or usuario==\"u\"or usuario==\"A\"or usuario==\"E\"or usuario==\"I\"or usuario==\"O\"or usuario==\"U\":\n",
    "\n",
    "    print(\"vowel\")\n",
    "else:\n",
    "    print(\"consonant\")\n",
    "\n",
    "    \n",
    "    "
   ]
  },
  {
   "cell_type": "markdown",
   "metadata": {},
   "source": [
    "##  Comparison of words"
   ]
  },
  {
   "cell_type": "code",
   "execution_count": null,
   "metadata": {},
   "outputs": [],
   "source": [
    "\n",
    "def read_generic_input(n_values):\n",
    "    read_values = []\n",
    "    while len(read_values) < n_values:\n",
    "        input_values = input()\n",
    "        input_values = ' '.join(input_values.split())\n",
    "        if input_values!=\"\\n\"and input_values!='':\n",
    "            read_values+=input_values.split(\" \")\n",
    "    return read_values\n",
    "a,b = read_generic_input(2)\n",
    "\n",
    "if a>b:\n",
    "    print(a+\" > \"+b)\n",
    "elif a<b:\n",
    "    print(a+\" < \"+b)\n",
    "else:\n",
    "    print(a+\" = \"+b)\n"
   ]
  },
  {
   "cell_type": "markdown",
   "metadata": {},
   "source": [
    "## Rounding"
   ]
  },
  {
   "cell_type": "code",
   "execution_count": null,
   "metadata": {},
   "outputs": [],
   "source": [
    "def read_generic_input(n_values):\n",
    "    read_values = []\n",
    "    while len(read_values) < n_values:\n",
    "        input_values = input()\n",
    "        input_values = ' '.join(input_values.split())\n",
    "        if input_values!=\"\\n\"and input_values!='':\n",
    "            read_values+=input_values.split(\" \")\n",
    "    if len(read_values)==1:\n",
    "        return read_values[0]\n",
    "    return read_values\n",
    "a = read_generic_input(1)\n",
    "import math\n",
    "a=float(a)\n",
    "mathfloor=math.floor(float(a))\n",
    "mathceil=math.ceil(float(a))\n",
    "mathround=round(float(a)+ 0.0000001)\n",
    "print(str(mathfloor)+ \" \" + str(mathceil)+ \" \" +str(mathround))"
   ]
  },
  {
   "cell_type": "markdown",
   "metadata": {},
   "source": [
    "\n",
    "##  Add one second"
   ]
  },
  {
   "cell_type": "code",
   "execution_count": null,
   "metadata": {},
   "outputs": [],
   "source": [
    "def read_generic_input(n_values):\n",
    "    read_values = []\n",
    "    while len(read_values) < n_values:\n",
    "        input_values = input()\n",
    "        input_values = ' '.join(input_values.split())\n",
    "        if input_values!=\"\\n\"and input_values!='':\n",
    "            read_values+=input_values.split(\" \")\n",
    "    if len(read_values)==1:\n",
    "        return read_values[0]\n",
    "    return read_values\n",
    "hours,minutes,seconds =read_generic_input(3)\n",
    "hours=int(hours)\n",
    "minutes=int(minutes)\n",
    "seconds=int(seconds)\n",
    "hours_plus_1=hours+1\n",
    "minutes_plus_1=minutes+1\n",
    "seconds_plus_1=seconds+1\n",
    "\n",
    "if minutes==59 and seconds==59:\n",
    "    if hours == 23:\n",
    "        final_hour = 0\n",
    "    else:\n",
    "        final_hour=hours_plus_1\n",
    "else:\n",
    "    final_hour=hours\n",
    "\n",
    "\n",
    "    \n",
    "if seconds==59:\n",
    "    if minutes==59:\n",
    "        final_minutes=0\n",
    "    else:\n",
    "        final_minutes=minutes_plus_1\n",
    "else:\n",
    "    final_minutes=minutes\n",
    "    \n",
    "if minutes==59 and seconds==59:\n",
    "    final_minutes=0\n",
    "    \n",
    "if seconds==59:\n",
    "    final_seconds=0\n",
    "else:\n",
    "    final_seconds=seconds_plus_1\n",
    "\n",
    "final_hour=str(final_hour)\n",
    "final_minutes=str(final_minutes)\n",
    "final_seconds=str(final_seconds)\n",
    "\n",
    "if len(final_hour)==1:\n",
    "    final_hour=\"0\"+final_hour\n",
    "if len(final_minutes)==1:\n",
    "    final_minutes=\"0\"+final_minutes\n",
    "if len(final_seconds)==1:\n",
    "    final_seconds=\"0\"+final_seconds\n",
    "    \n",
    "print(final_hour+ \":\" +final_minutes+ \":\" +final_seconds)"
   ]
  },
  {
   "cell_type": "markdown",
   "metadata": {},
   "source": [
    "## ejemplo de como lo haria guillermo:"
   ]
  },
  {
   "cell_type": "code",
   "execution_count": 49,
   "metadata": {},
   "outputs": [
    {
     "name": "stdout",
     "output_type": "stream",
     "text": [
      "12 23 4\n",
      "12:23:05\n"
     ]
    }
   ],
   "source": [
    "def read_generic_input(n_values):\n",
    "    read_values = []\n",
    "    while len(read_values) < n_values:\n",
    "        input_values = input()\n",
    "        input_values = ' '.join(input_values.split())\n",
    "        if input_values!=\"\\n\"and input_values!='':\n",
    "            read_values+=input_values.split(\" \")\n",
    "    if len(read_values)==1:\n",
    "        return read_values[0]\n",
    "    return read_values\n",
    "hours,minutes,seconds =read_generic_input(3)\n",
    "hours=int(hours)\n",
    "minutes=int(minutes)\n",
    "seconds=int(seconds)\n",
    "\n",
    "final_seconds = seconds+1\n",
    "final_minutes = minutes\n",
    "final_hour = hours\n",
    "if final_seconds == 60:\n",
    "    final_seconds = 0\n",
    "    final_minutes = minutes+1\n",
    "    if final_minutes == 60:\n",
    "        final_minutes = 0\n",
    "        final_hour = hours + 1\n",
    "        if final_hour == 24:\n",
    "            final_hour = 0\n",
    "            \n",
    "            \n",
    "final_hour=str(final_hour)\n",
    "final_minutes=str(final_minutes)\n",
    "final_seconds=str(final_seconds)\n",
    "\n",
    "if len(final_hour)==1:\n",
    "    final_hour=\"0\"+final_hour\n",
    "if len(final_minutes)==1:\n",
    "    final_minutes=\"0\"+final_minutes\n",
    "if len(final_seconds)==1:\n",
    "    final_seconds=\"0\"+final_seconds\n",
    "    \n",
    "print(final_hour+ \":\" +final_minutes+ \":\" +final_seconds)"
   ]
  },
  {
   "cell_type": "markdown",
   "metadata": {},
   "source": [
    "## Leap years"
   ]
  },
  {
   "cell_type": "code",
   "execution_count": null,
   "metadata": {
    "scrolled": true
   },
   "outputs": [],
   "source": [
    "def read_generic_input(n_values):\n",
    "    read_values = []\n",
    "    while len(read_values) < n_values:\n",
    "        input_values = input()\n",
    "        input_values = ' '.join(input_values.split())\n",
    "        if input_values!=\"\\n\"and input_values!='':\n",
    "            read_values+=input_values.split(\" \")\n",
    "    if len(read_values)==1:\n",
    "        return read_values[0]\n",
    "    return read_values\n",
    "\n",
    "a =read_generic_input(1)\n",
    "a=int(a)\n",
    "leap_year=int(a)\n",
    "if leap_year%4==0  and not leap_year%100==0:\n",
    "    print(\"YES\")\n",
    "elif leap_year%400==0 and leap_year%100==0:\n",
    "    print(\"YES\")\n",
    "else:\n",
    "    print(\"NO\")\n",
    "    \n",
    "    \n"
   ]
  },
  {
   "cell_type": "markdown",
   "metadata": {},
   "source": [
    "## First numbers bucles infinitos"
   ]
  },
  {
   "cell_type": "code",
   "execution_count": 3,
   "metadata": {},
   "outputs": [
    {
     "name": "stdout",
     "output_type": "stream",
     "text": [
      "10\n",
      "0\n",
      "1\n",
      "2\n",
      "3\n",
      "4\n",
      "5\n",
      "6\n",
      "7\n",
      "8\n",
      "9\n",
      "10\n"
     ]
    }
   ],
   "source": [
    "def read_generic_input(n_values):\n",
    "    read_values = []\n",
    "    while len(read_values) < n_values:\n",
    "        input_values = input()\n",
    "        input_values = ' '.join(input_values.split())\n",
    "        if input_values!=\"\\n\"and input_values!='':\n",
    "            read_values+=input_values.split(\" \")\n",
    "    if len(read_values)==1:\n",
    "        return read_values[0]\n",
    "    return read_values\n",
    "\n",
    "a=read_generic_input(1)\n",
    "a=int(a)\n",
    "i = 0\n",
    "while i <= a:\n",
    "    print(i)\n",
    "    i = i+1"
   ]
  },
  {
   "cell_type": "markdown",
   "metadata": {},
   "source": [
    "##  Top to bottom"
   ]
  },
  {
   "cell_type": "code",
   "execution_count": null,
   "metadata": {},
   "outputs": [],
   "source": [
    "def read_generic_input(n_values):\n",
    "    read_values = []\n",
    "    while len(read_values) < n_values:\n",
    "        input_values = input()\n",
    "        input_values = ' '.join(input_values.split())\n",
    "        if input_values!=\"\\n\"and input_values!='':\n",
    "            read_values+=input_values.split(\" \")\n",
    "    if len(read_values)==1:\n",
    "        return read_values[0]\n",
    "    return read_values\n",
    "x,y=read_generic_input(2)\n",
    "big=x\n",
    "small=y\n",
    "x=int(x)\n",
    "y=int(y)\n",
    "if x>y:\n",
    "    big=x\n",
    "    small=y\n",
    "else:\n",
    "    big=y\n",
    "    small=x\n",
    "    \n",
    "while big>=small:\n",
    "    print(big)\n",
    "    big=big-1\n",
    "\n",
    "    \n"
   ]
  },
  {
   "cell_type": "markdown",
   "metadata": {},
   "source": [
    " ## suma de todos los numeros de 1 a n"
   ]
  },
  {
   "cell_type": "code",
   "execution_count": null,
   "metadata": {},
   "outputs": [],
   "source": [
    "def read_generic_input(n_values):\n",
    "    read_values = []\n",
    "    while len(read_values) < n_values:\n",
    "        input_values = input()\n",
    "        input_values = ' '.join(input_values.split())\n",
    "        if input_values!=\"\\n\"and input_values!='':\n",
    "            read_values+=input_values.split(\" \")\n",
    "    if len(read_values)==1:\n",
    "        return read_values[0]\n",
    "    return read_values\n",
    "n=read_generic_input(1)# lee el input del usuario\n",
    "suma=0 #variable qe empieza en cero (inicializar)\n",
    "x=0 # inicializando x(darle valor principal)\n",
    "n=int(n)#casteando a n(cambiando el tipo str,int.)\n",
    "while x<n:#mientras x sea menor que n\n",
    "    x=x+1# x pasa de x a x+1(incremento valor a 1)\n",
    "    suma=suma+x#variable qe empieza en cero y sumara a x hasta llegar a n\n",
    "    print(suma)"
   ]
  },
  {
   "cell_type": "code",
   "execution_count": 5,
   "metadata": {},
   "outputs": [
    {
     "name": "stdout",
     "output_type": "stream",
     "text": [
      "10\n",
      "1\n",
      "3\n",
      "6\n",
      "10\n",
      "15\n",
      "21\n",
      "28\n",
      "36\n",
      "45\n",
      "55\n"
     ]
    }
   ],
   "source": [
    "def read_generic_input(n_values):\n",
    "    read_values = []\n",
    "    while len(read_values) < n_values:\n",
    "        input_values = input()\n",
    "        input_values = ' '.join(input_values.split())\n",
    "        if input_values!=\"\\n\"and input_values!='':\n",
    "            read_values+=input_values.split(\" \")\n",
    "    if len(read_values)==1:\n",
    "        return read_values[0]\n",
    "    return read_values\n",
    "n=read_generic_input(1) \n",
    "suma=0\n",
    "x=0\n",
    "n=int(n)\n",
    "while x<n:\n",
    "    x=x+1\n",
    "    suma=suma+x\n",
    "    print(suma)"
   ]
  },
  {
   "cell_type": "markdown",
   "metadata": {},
   "source": [
    "## Harmonic numbers (1)"
   ]
  },
  {
   "cell_type": "code",
   "execution_count": null,
   "metadata": {},
   "outputs": [],
   "source": [
    "def read_generic_input(n_values):\n",
    "    read_values = []\n",
    "    while len(read_values) < n_values:\n",
    "        input_values = input()\n",
    "        input_values = ' '.join(input_values.split())\n",
    "        if input_values!=\"\\n\"and input_values!='':\n",
    "            read_values+=input_values.split(\" \")\n",
    "    if len(read_values)==1:\n",
    "        return read_values[0]\n",
    "\n",
    "n=read_generic_input(1)# input del usuario\n",
    "n=int(n)#casteo\n",
    "x=1\n",
    "#le doy el valor a suma,que es una de las operaciones que tengo que hacer\n",
    "division=0 #le doy el valor a division,que es una de las operaciones que tengo que hacer\n",
    "while x<n:#mientras x sea mwnor que el input del usuario:\n",
    "    x=x+1\n",
    "    division=division+1\n",
    "    print(division)\n",
    "    \n",
    "    #hacer un programa que sume los resultados de las divisiones hasta llegar al input\n",
    "   # del usuario\n",
    "    \n",
    "    \n",
    "    "
   ]
  },
  {
   "cell_type": "code",
   "execution_count": 31,
   "metadata": {},
   "outputs": [
    {
     "name": "stdout",
     "output_type": "stream",
     "text": [
      "10\n"
     ]
    }
   ],
   "source": [
    "def read_generic_input(n_values):\n",
    "    read_values = []\n",
    "    while len(read_values) < n_values:\n",
    "        input_values = input()\n",
    "        input_values = ' '.join(input_values.split())\n",
    "        if input_values!=\"\\n\"and input_values!='':\n",
    "            read_values+=input_values.split(\" \")\n",
    "    if len(read_values)==1:\n",
    "        return read_values[0]\n",
    "\n",
    "n=read_generic_input(1)\n",
    "n=int(n)\n",
    "# x=\n",
    "suma=0\n",
    "x = 0\n",
    "while x<n:\n",
    "    x=x+1\n",
    "    print(\"x: \"+ str(x))\n",
    "    suma=suma+1/x\n",
    "    print(\"suma: \"+ str(suma))\n",
    "\n",
    "#     "
   ]
  },
  {
   "cell_type": "code",
   "execution_count": null,
   "metadata": {},
   "outputs": [],
   "source": [
    "def read_generic_input(n_values):\n",
    "    read_values = []\n",
    "    while len(read_values) < n_values:\n",
    "        input_values = input()\n",
    "        input_values = ' '.join(input_values.split())\n",
    "        if input_values!=\"\\n\"and input_values!='':\n",
    "            read_values+=input_values.split(\" \")\n",
    "    if len(read_values)==1:\n",
    "        return read_values[0]\n",
    "\n",
    "n=read_generic_input(1)\n",
    "n=int(n)\n",
    "# x=\n",
    "suma=0\n",
    "x = 0\n",
    "while x<n:\n",
    "    x=x+1\n",
    "    suma=suma+1/x\n",
    "\n",
    "print(\"%.4f\" % round(suma,4))"
   ]
  },
  {
   "cell_type": "code",
   "execution_count": 35,
   "metadata": {},
   "outputs": [
    {
     "data": {
      "text/plain": [
       "0"
      ]
     },
     "execution_count": 35,
     "metadata": {},
     "output_type": "execute_result"
    }
   ],
   "source": [
    "suma"
   ]
  },
  {
   "cell_type": "code",
   "execution_count": 15,
   "metadata": {
    "scrolled": true
   },
   "outputs": [
    {
     "data": {
      "text/plain": [
       "2.283333333333333"
      ]
     },
     "execution_count": 15,
     "metadata": {},
     "output_type": "execute_result"
    }
   ],
   "source": [
    "(1/1 + 1/4 +1/9 + 1/16 + 1/25)"
   ]
  },
  {
   "cell_type": "code",
   "execution_count": 2,
   "metadata": {},
   "outputs": [
    {
     "data": {
      "text/plain": [
       "1.8333333333333333"
      ]
     },
     "execution_count": 2,
     "metadata": {},
     "output_type": "execute_result"
    }
   ],
   "source": [
    "1/x+1/x+1/x"
   ]
  },
  {
   "cell_type": "code",
   "execution_count": 16,
   "metadata": {},
   "outputs": [
    {
     "ename": "SyntaxError",
     "evalue": "can't assign to literal (<ipython-input-16-0e9b83f24758>, line 1)",
     "output_type": "error",
     "traceback": [
      "\u001b[0;36m  File \u001b[0;32m\"<ipython-input-16-0e9b83f24758>\"\u001b[0;36m, line \u001b[0;32m1\u001b[0m\n\u001b[0;31m    2=1.5000\u001b[0m\n\u001b[0m            ^\u001b[0m\n\u001b[0;31mSyntaxError\u001b[0m\u001b[0;31m:\u001b[0m can't assign to literal\n"
     ]
    }
   ],
   "source": [
    "1 + 2 + 3"
   ]
  },
  {
   "cell_type": "markdown",
   "metadata": {},
   "source": [
    "## cambiando el valor de las variables"
   ]
  },
  {
   "cell_type": "code",
   "execution_count": 11,
   "metadata": {},
   "outputs": [
    {
     "name": "stdout",
     "output_type": "stream",
     "text": [
      "1 2\n",
      "2\n",
      "1\n"
     ]
    }
   ],
   "source": [
    "def read_generic_input(n_values):\n",
    "    read_values = []\n",
    "    while len(read_values) < n_values:\n",
    "        input_values = input()\n",
    "        input_values = ' '.join(input_values.split())\n",
    "        if input_values!=\"\\n\"and input_values!='':\n",
    "            read_values+=input_values.split(\" \")\n",
    "    if len(read_values)==1:\n",
    "        return read_values[0]\n",
    "     return read_values\n",
    "n=read_generic_input(1)\n",
    "# lee la entrada del usuario\n",
    "x,y=read_generic_input(2)\n",
    "#casteo de str a int\n",
    "x=int(x)\n",
    "#casteo de str a int\n",
    "y=int(y)\n",
    "#casteo de str a int\n",
    "z=int(z)\n",
    "#le doy el valor a z de y para guardar la variable y\n",
    "z=y\n",
    "# le doy a z el valor de y para que y tenga el valor de z\n",
    "y=z\n",
    "#machaco el valor de y para q tenga el valor de x\n",
    "y=x\n",
    "#machaco el valor de x para q tenga el valor de z\n",
    "x=z\n",
    "#lo q me aparecera en la pantalla\n",
    "print (x)\n",
    "#lo q me aparecera en la pantalla\n",
    "print(y)\n"
   ]
  },
  {
   "cell_type": "markdown",
   "metadata": {},
   "source": [
    "## guardar el de mayor valor en x y el menor en y"
   ]
  },
  {
   "cell_type": "code",
   "execution_count": 14,
   "metadata": {},
   "outputs": [
    {
     "name": "stdout",
     "output_type": "stream",
     "text": [
      "1 2\n",
      "2\n",
      "1\n"
     ]
    }
   ],
   "source": [
    "\n",
    "def read_generic_input(n_values):\n",
    "    read_values = []\n",
    "    while len(read_values) < n_values:\n",
    "        input_values = input()\n",
    "        input_values = ' '.join(input_values.split())\n",
    "        if input_values!=\"\\n\"and input_values!='':\n",
    "            read_values+=input_values.split(\" \")\n",
    "    return read_values\n",
    "x,y = read_generic_input(2)\n",
    "\n",
    "#casteo de x\n",
    "x=int(x)\n",
    "#casteo de y\n",
    "y=int(y)\n",
    "#inicializacion de big\n",
    "big=x\n",
    "#inicializacion de small\n",
    "small=y\n",
    "#condicion que quiero que se cumpla\n",
    "if x>=y:\n",
    "    big=x\n",
    "    small=y\n",
    "if  y>=x:\n",
    "    big=y\n",
    "    small=x\n",
    "else:\n",
    "    ()\n",
    "    \n",
    "print(big)\n",
    "print(small)\n",
    "x=big\n",
    "y=small\n",
    "\n"
   ]
  },
  {
   "cell_type": "markdown",
   "metadata": {},
   "source": [
    "## mayor de los numeros=x mediano=y pequeño=z"
   ]
  },
  {
   "cell_type": "code",
   "execution_count": 13,
   "metadata": {},
   "outputs": [
    {
     "name": "stdout",
     "output_type": "stream",
     "text": [
      "1 2 1\n",
      "2\n",
      "1\n",
      "1\n"
     ]
    }
   ],
   "source": [
    "\n",
    "def read_generic_input(n_values):\n",
    "    read_values = []\n",
    "    while len(read_values) < n_values:\n",
    "        input_values = input()\n",
    "        input_values = ' '.join(input_values.split())\n",
    "        if input_values!=\"\\n\"and input_values!='':\n",
    "            read_values+=input_values.split(\" \")\n",
    "    return read_values\n",
    "x,y,z= read_generic_input(3)\n",
    "\n",
    "#casteo de x\n",
    "x=int(x)\n",
    "#casteo de y\n",
    "y=int(y)\n",
    "#casteo de z\n",
    "z=int(z)\n",
    "#inicializacion de big\n",
    "big=x\n",
    "#inicializacion de medium\n",
    "medium=y\n",
    "#inicializacion de small\n",
    "small=z\n",
    "#condicion que quiero que se cumpla\n",
    "if z>=x  and z>=y and y>=x:\n",
    "    big=z\n",
    "    medium=y\n",
    "    small=x\n",
    "if x>=y and x>=z and y>=z:\n",
    "    big=x\n",
    "    medium=y\n",
    "    small=z\n",
    "if y>=x and y>=z and x>=z:\n",
    "    big=y\n",
    "    medium=x\n",
    "    small=z\n",
    "if z>=x and z>=y and x>=y:\n",
    "    big=z\n",
    "    medium=x\n",
    "    small=y\n",
    "    \n",
    "\n",
    "print(big)\n",
    "print(medium)\n",
    "print(small)\n",
    "\n",
    "x=big\n",
    "y=medium\n",
    "z=small\n",
    "\n",
    "\n"
   ]
  },
  {
   "cell_type": "markdown",
   "metadata": {},
   "source": [
    "## Banknotes"
   ]
  },
  {
   "cell_type": "code",
   "execution_count": null,
   "metadata": {},
   "outputs": [],
   "source": [
    "\n",
    "def read_generic_input(n_values):\n",
    "    read_values = []\n",
    "    while len(read_values) < n_values:\n",
    "        input_values = input()\n",
    "        input_values = ' '.join(input_values.split())\n",
    "        if input_values!=\"\\n\"and input_values!='':\n",
    "            read_values+=input_values.split(\" \")\n",
    "    return read_values\n",
    "x,y= read_generic_input(2)\n",
    "#lista de posibles billetes\n",
    "z=[2000,1000,500,200,100,50,10,5]\n",
    "#casteo de z\n",
    "z=int(z)\n",
    "#casteo de x\n",
    "x=int(x)\n",
    "#casteo de y\n",
    "y=int(y)"
   ]
  },
  {
   "cell_type": "markdown",
   "metadata": {},
   "source": [
    " ## Numbers in an interval"
   ]
  },
  {
   "cell_type": "code",
   "execution_count": 1,
   "metadata": {},
   "outputs": [
    {
     "name": "stdout",
     "output_type": "stream",
     "text": [
      "15 21\n",
      "15,16,17,18,19,20,21\n"
     ]
    }
   ],
   "source": [
    "def read_generic_input(n_values):\n",
    "    read_values = []\n",
    "    while len(read_values) < n_values:\n",
    "        input_values = input()\n",
    "        input_values = ' '.join(input_values.split())\n",
    "        if input_values!=\"\\n\"and input_values!='':\n",
    "            read_values+=input_values.split(\" \")\n",
    "    if len(read_values)==1:\n",
    "        return read_values[0]\n",
    "    return read_values\n",
    "\n",
    "x,y=read_generic_input(2)\n",
    "x=int(x)\n",
    "y=int(y)\n",
    "if x>y:\n",
    "    print(\"\")\n",
    "x=x-1\n",
    "while x<y:\n",
    "    x=x+1\n",
    "    if x==y:\n",
    "        print(x)\n",
    "    else:\n",
    "        print(x, end=\",\")\n",
    "    "
   ]
  },
  {
   "cell_type": "markdown",
   "metadata": {},
   "source": [
    "## otra forma de hacer el problema anterior"
   ]
  },
  {
   "cell_type": "code",
   "execution_count": 4,
   "metadata": {},
   "outputs": [
    {
     "name": "stdout",
     "output_type": "stream",
     "text": [
      "15 21\n",
      "15,16,17,18,19,20,21\n"
     ]
    }
   ],
   "source": [
    "\n",
    "def read_generic_input(n_values):\n",
    "    read_values = []\n",
    "    while len(read_values) < n_values:\n",
    "        input_values = input()\n",
    "        input_values = ' '.join(input_values.split())\n",
    "        if input_values!=\"\\n\"and input_values!='':\n",
    "            read_values+=input_values.split(\" \")\n",
    "    return read_values\n",
    "x,y= read_generic_input(2)\n",
    "x=int(x)\n",
    "y=int(y)\n",
    "if x>y:\n",
    "    print(\"\")\n",
    "while x<=y:\n",
    "    if x==y:\n",
    "        print(x)\n",
    "    else:\n",
    "        print(x, end=\",\")\n",
    "    x=x+1"
   ]
  },
  {
   "cell_type": "markdown",
   "metadata": {},
   "source": [
    "## Sum of squares"
   ]
  },
  {
   "cell_type": "code",
   "execution_count": 6,
   "metadata": {},
   "outputs": [
    {
     "name": "stdout",
     "output_type": "stream",
     "text": [
      "7\n",
      "7.0\n"
     ]
    }
   ],
   "source": [
    "def read_generic_input(n_values):\n",
    "    read_values = []\n",
    "    while len(read_values) < n_values:\n",
    "        input_values = input()\n",
    "        input_values = ' '.join(input_values.split())\n",
    "        if input_values!=\"\\n\"and input_values!='':\n",
    "            read_values+=input_values.split(\" \")\n",
    "    if len(read_values)==1:\n",
    "        return read_values[0]\n",
    "    return read_values\n",
    "n=read_generic_input(1) \n",
    "elevado=0\n",
    "x=0\n",
    "n=int(n)\n",
    "while x<n:\n",
    "    x=x+1\n",
    "    elevado=elevado+x*x\n",
    "    \n",
    "print(elevado)\n",
    "\n"
   ]
  },
  {
   "cell_type": "code",
   "execution_count": null,
   "metadata": {},
   "outputs": [],
   "source": []
  }
 ],
 "metadata": {
  "kernelspec": {
   "display_name": "Python 3",
   "language": "python",
   "name": "python3"
  },
  "language_info": {
   "codemirror_mode": {
    "name": "ipython",
    "version": 3
   },
   "file_extension": ".py",
   "mimetype": "text/x-python",
   "name": "python",
   "nbconvert_exporter": "python",
   "pygments_lexer": "ipython3",
   "version": "3.6.8"
  }
 },
 "nbformat": 4,
 "nbformat_minor": 2
}
